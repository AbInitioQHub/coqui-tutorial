{
 "cells": [
  {
   "cell_type": "markdown",
   "id": "5ec179ad-88da-45e0-b84b-3803105e10b8",
   "metadata": {},
   "source": [
    "# Wannier90 interface in CoQuí\n",
    "\n",
    "This tutorail aims to construct Maximally Localized Wannier Functions (MLWFs) using the Wannier90 interface in CoQuí. \n"
   ]
  }
 ],
 "metadata": {
  "kernelspec": {
   "display_name": "llvm19-mkl-mod2.4",
   "language": "python",
   "name": "llvm19-mkl-mod2.4"
  },
  "language_info": {
   "codemirror_mode": {
    "name": "ipython",
    "version": 3
   },
   "file_extension": ".py",
   "mimetype": "text/x-python",
   "name": "python",
   "nbconvert_exporter": "python",
   "pygments_lexer": "ipython3",
   "version": "3.11.11"
  }
 },
 "nbformat": 4,
 "nbformat_minor": 5
}
