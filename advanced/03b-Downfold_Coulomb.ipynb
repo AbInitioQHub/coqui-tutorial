{
 "cells": [
  {
   "cell_type": "markdown",
   "id": "075ff4fe-b8a2-43c5-9573-147e4b0eb571",
   "metadata": {},
   "source": [
    "# Downfolding - Effective Coulomb Interaction\n",
    "\n",
    "Given:\n",
    "1. A many-body Hamiltonian $H = H_0 + V^{\\mathrm{THC}} _{ee}$\n",
    "2. An input Green's function $G^{\\textbf{k}} _{ij}(\\tau)$,\n",
    "\n",
    "the `[downfold_2e]` module evaluates the dynamic screened interactions $\\mathcal{U} _{abcd}(\\tau)$\n",
    "in a general four-index format. Currently, CoQui supports two different methodologies to account \n",
    "for the screening effects:\n",
    "- Constrained Random Phase Approximation (cRPA) [[ref]](https://journals.aps.org/prb/abstract/10.1103/PhysRevB.70.195104)\n",
    "- Extended Dynamic Mean-Field Theory (EDMFT) [[ref]](https://journals.aps.org/prl/abstract/10.1103/PhysRevLett.90.086402).\n",
    "\n",
    "All screening types are integrated through a consistent interface and controlled by the `screen_type` \n",
    "parameter. Supported values include: `\"bare\"`, `\"crpa\"`, `\"crpa_ks\"`, `\"crpa_vasp\"`, and `\"edmft\"`.\n",
    "The three crpa options differ in how they handle cases where the projection matrices are not unitary due \n",
    "to entanglement. All of them fall back to the standard cRPA in the absence of entanglement.  \n",
    "- `\"crpa\"`: The standard cRPA methods which evaluates polarizability within the active space using projection \n",
    "  matrices. In the presence of entanglement, this might result in problems if some bands at the fermi are not \n",
    "  completely exclusded.  \n",
    "- `\"crpa_ks\"`: Evaluate polarizability within the active space using KS bands having strong Wannier \n",
    "  orbitals character at each k-point. This is exact if the projection matrices are unitary. \n",
    "- `\"crpa_vasp\"`: Evaluate polarizability within the active space using the regularized projection matrices, \n",
    "  as motivated by Merzuk Kaltak's [thesis](https://utheses.univie.ac.at/detail/33771) and VASP implementation. \n",
    "  This is exact if the projection matrices are unitary. \n",
    "\n",
    "### Input Green's Function $G^{\\textbf{k}} _{ij}(\\tau)$\n",
    "The `[downfold_2e]` module accesses the input Green's function $G^{\\textbf{k}} _{ij}(\\tau)$ through an \n",
    "CoQui HDF5 output file.\n",
    "Depending on the users' intensions, CoQui offers flexibility regarding the theoretical level at which\n",
    "$G^{\\textbf{k}} _{ij}(\\tau)$ is obtained. Options include Green's functions derived from:\n",
    "- a mean-field solution: see [crpa_from_mf.toml](crpa_from_mf.toml)\n",
    "- MBPT calculations: see [crpa_from_coqui.toml](crpa_from_mbpt.toml) and [crpa_from_coqui_2.toml](crpa_from_mbpt_2.toml)\n",
    "- DMFT embedding: see [crpa_from_dmft.toml](crpa_from_dmft.toml)\n",
    "\n",
    "These options are controlled by the following parameters:\n",
    "1. `input_type`: \"mf\" or \"coqui\".\n",
    "   - Specifies whether the input $G^{\\textbf{k}} _{ij}(\\tau)$ is a non-interacting Green's function from a\n",
    "     [mean_field] instance or an interacting Green's function from an `CoQui` MBPT calculation.\n",
    "2. `input_grp`: [optional] Default: \"scf\" (the place where MBPT results are stored).\n",
    "   - The group name within the HDF5 file where the input $G^{\\textbf{k}} _{ij}(\\tau)$ is stored.\n",
    "3. `input_iter`: [optional] Default: last iteration in the \"scf\" group.\n",
    "   - The iteration number from which the input $G^{\\textbf{k}} _{ij}(\\tau)$ is retrieved.\n"
   ]
  },
  {
   "cell_type": "code",
   "execution_count": null,
   "id": "d9e27aeb-0799-487a-8f99-72cc28fa8c99",
   "metadata": {},
   "outputs": [],
   "source": []
  }
 ],
 "metadata": {
  "kernelspec": {
   "display_name": "gcc13-mkl-mod2.4",
   "language": "python",
   "name": "gcc13-mkl-mod2.4"
  },
  "language_info": {
   "codemirror_mode": {
    "name": "ipython",
    "version": 3
   },
   "file_extension": ".py",
   "mimetype": "text/x-python",
   "name": "python",
   "nbconvert_exporter": "python",
   "pygments_lexer": "ipython3",
   "version": "3.11.11"
  }
 },
 "nbformat": 4,
 "nbformat_minor": 5
}
