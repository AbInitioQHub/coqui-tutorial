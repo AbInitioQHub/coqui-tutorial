{
 "cells": [
  {
   "cell_type": "markdown",
   "id": "562d532b-4be1-4ce0-8de0-14b899c5307f",
   "metadata": {},
   "source": [
    "# Downfolding\n",
    "\n",
    "The downfolding procedure in CoQui begins with a many-body Hamiltonian in\n",
    "the THC representation, expressed as $H = H_0 + V^{\\mathrm{THC}} _{ee}$ \n",
    "(see [interaction](../interaction/README.md)), and an input Green's function \n",
    "$G^{\\textbf{k}} _{ij}(\\tau)$ stored in an CoQui checkpoint file (see [mbpt](../mbpt/README.md)). \n",
    "Additionally, users are responsible for providing the definitions of the \n",
    "correlated orbitals within the targeted low-energy subspace, as CoQui does \n",
    "not perform orbital localization itself. The information about the correlated \n",
    "orbitals is accessed by CoQui through an HDF5 file, structured as follows:\n",
    "```text\n",
    "group      /\n",
    "dataset    /dft_input/proj_mat              # Projection matrix for the localized basis \n",
    "dataset    /dft_input/kpts                  # k-points in the full Brillouin zone (BZ)\n",
    "dataset    /dft_misc_input/band_window      # Band window for the construction of the localized basis \n",
    "dataset    /dft_input/wan_centres           # Localization centres\n",
    "```\n",
    "Step-by-step instructions on how to prepare such an HDF5 input file via the\n",
    "`Quantum ESPRESSO` and `Wannier90` interface can be found [here](../dft_converter/qe/README.md).\n",
    "\n",
    "### Low-energy effective Hamiltonian\n",
    "\n",
    "Given an electronic structure characterized by the input Green's function $G^{\\textbf{k}} _{ij}(\\tau)$,\n",
    "CoQui can derive a low-energy effective Hamiltonian for the specified correlated subspace. \n",
    "This Hamiltonian is represented as the action of a general impurity problem:\n",
    "\n",
    "$$\n",
    "\\mathcal{S} = \\iint_0^{\\beta} \\mathrm{d} \\tau \\mathrm{d} \\tau' \\sum_{ab}\n",
    "c^{\\dagger}_a(\\tau) \\mathcal{G}^{-1} _{ab}(\\tau-\\tau') c_b(\\tau') + \\frac{1}{2}\n",
    "\\int_0^{\\beta} \\mathrm{d} \\tau \\mathrm{d} \\tau' \\sum _{abcd}\n",
    "c^{\\dagger}_a(\\tau)c^{\\dagger}_c(\\tau')\\mathcal{U} _{abcd}(\\tau - \\tau') c_d(\\tau')c_b(\\tau)\n",
    "$$\n",
    "\n",
    "Here, $\\tau$ represents the imaginary time, and $\\beta$ denotes the inverse temperature\n",
    "($a.u.^{-1}$). The subscripts $a$, $b$, $c$, and $d$ indicate orbital indices.\n",
    "The terms $\\mathcal{G} _{ab}(\\tau)$ and $\\mathcal{U} _{abcd}(\\tau)$ represent the\n",
    "fermionic and bosonic Weiss field, corresponding to the one-body and two-body effective\n",
    "Hamiltonian components of the impurity, respectively.\n",
    "Constructing a low-energy model is therefore equivalent to evaluating \n",
    "$\\mathcal{G} _{ab}(\\tau)$ and $\\mathcal{U} _{abcd}(\\tau)$. CoQui divides the downfolding \n",
    "process into two independent components:\n",
    "1. `[downfold_2e]`: Evaluates $\\mathcal{U} _{abcd}(\\tau)$ using cRPA or EDMFT equations.\n",
    "   A step-by-step tutorial can be found [here](downfold_2e/README.md).\n",
    "2. `[downfold_1e]`: Evaluates $\\mathcal{G} _{ab}(\\tau)$, offering various choices\n",
    "   for double-counting contributions. A step-by-step tutorial can be found [here](downfold_1e/README.md). \n"
   ]
  },
  {
   "cell_type": "markdown",
   "id": "6fdfb9b2-cf8e-4842-8dea-ef2b2973741b",
   "metadata": {},
   "source": [
    "### 1. Downfolding - Effective One-Body Hamiltonian\n",
    "\n",
    "The `[downfold_1e]` module calculates the effective one-body Hamiltonian for a \n",
    "user-defined active space, starting from a precomputed electronic structure \n",
    "solution of a crystal. At the highest level, CoQui provides two different downfolding \n",
    "schemes:\n",
    "\n",
    "- **Full-frequency Downfolding**: See [mbpt_downfold.toml](mbpt_downfold.toml).   \n",
    "This scheme produces a frequency-dependent one-body Hamiltonian, incorporating both \n",
    "the non-interacting component and the dynamic self-energy.  \n",
    "- **Quasiparticle Downfolding**:\n",
    "See [qp_mbpt_downfold.toml](qp_mbpt_downfold.toml) and [mf_downfold.toml](mf_downfold.toml).<br>\n",
    "This scheme generates a static effective Hamiltonian by applying the quasiparticle \n",
    "approximation to the dynamic self-energy. \n",
    "\n",
    "### Prerequisites\n",
    "The `[downfold_1e]` module relies on the following inputs\n",
    "- **A precomputed electronic structure solution**:  \n",
    "This includes the mean-field solutions from the supported DFT backends \n",
    "(see [mf_downfold.toml](mf_downfold.toml)) as well as Dyson SCF calculations \n",
    "from CoQui. \n",
    "- **Effective screened interactions $\\mathcal{U}$ from the `[downfold_2e]` module:** See [downfold_2e](../downfold_2e/README.md).  \n",
    "This is necessary for double-counting evaluations. \n"
   ]
  },
  {
   "cell_type": "code",
   "execution_count": null,
   "id": "5271701b-c869-40af-a709-f048b6d2fe55",
   "metadata": {},
   "outputs": [],
   "source": []
  }
 ],
 "metadata": {
  "kernelspec": {
   "display_name": "gcc13-mkl-mod2.4",
   "language": "python",
   "name": "gcc13-mkl-mod2.4"
  },
  "language_info": {
   "codemirror_mode": {
    "name": "ipython",
    "version": 3
   },
   "file_extension": ".py",
   "mimetype": "text/x-python",
   "name": "python",
   "nbconvert_exporter": "python",
   "pygments_lexer": "ipython3",
   "version": "3.11.11"
  }
 },
 "nbformat": 4,
 "nbformat_minor": 5
}
