{
 "cells": [
  {
   "cell_type": "code",
   "execution_count": 1,
   "id": "65952e01-74d6-41aa-b850-60b793da48ad",
   "metadata": {
    "editable": true,
    "slideshow": {
     "slide_type": ""
    },
    "tags": []
   },
   "outputs": [
    {
     "name": "stderr",
     "output_type": "stream",
     "text": [
      "--------------------------------------------------------------------------\n",
      "Ignoring value for oob_tcp_if_exclude on worker6022 (10.250.112.0/20: Did not find interface matching this subnet).\n",
      "(You can safely ignore this message.)\n",
      "--------------------------------------------------------------------------\n"
     ]
    }
   ],
   "source": [
    "import os\n",
    "from mpi4py import MPI\n",
    "import coqui\n",
    "\n",
    "# CoQui computing environemnt: mpi handler and verbosity\n",
    "mpi = coqui.MpiHandler()\n",
    "coqui.set_verbosity(mpi, output_level=2, debug_level=0)\n",
    "\n",
    "if os.path.exists(\"./thc.coulomb.h5\"):\n",
    "    os.remove(\"./thc.coulomb.h5\")\n",
    "if os.path.exists(\"./thc2.coulomb.h5\"):\n",
    "    os.remove(\"./thc.coulomb.h5\")    "
   ]
  },
  {
   "cell_type": "markdown",
   "id": "83b28bae-7c42-4672-a65f-2fa6b791c97b",
   "metadata": {
    "editable": true,
    "slideshow": {
     "slide_type": ""
    },
    "tags": []
   },
   "source": [
    "## 2. Cholesky Decomposition\n",
    "Additionally, CoQui offers Cholesky decomposition as another method to factorize\n",
    "the Coulomb Hamiltonian   \n",
    "$V^{\\textbf{k}_1\\textbf{k}_2\\textbf{k}_3\\textbf{k}_4} _{abcd}$:\n",
    "$$\n",
    "V^{\\textbf{k}_1\\textbf{k}_2\\textbf{k}_3\\textbf{k}_4} _{abcd} \\approx \n",
    "\\sum_{P} L^{\\textbf{k}_2 \\textbf{k}_1 *} _{baP} L^{\\textbf{k}_3 \\textbf{k}_4} _{cdP}\n",
    "$$\n",
    "It is important to note that computing Cholesky Coulomb integrals and performing subsequent\n",
    "many-body calculations exhibit much higher complexities, both in terms of memory requirements\n",
    "and computational demands. The inclusion of Cholesky decomposition primarily serves as a tool\n",
    "for debugging. For practical, large-scale computations, the THC formalism is recommended due\n",
    "to its efficiency and scalability.\n"
   ]
  },
  {
   "cell_type": "markdown",
   "id": "4e47f423-74ce-447e-8810-c45f67c0ec1f",
   "metadata": {},
   "source": [
    "## 3. Least-squares THC\n",
    "CoQuí offers an alternative algorithm, named least-squares THC (LS-THC), to construct the THC represenation of Coulomb Hamiltonian. This one is particularly useful whenever the single-particle basis $\\phi^{\\textbf{k}}_{i}(\\textbf{r})$ cannot be efficiently represented using an uniform real-space grid. "
   ]
  },
  {
   "cell_type": "code",
   "execution_count": null,
   "id": "0fbbf77a-2d8a-4dd6-b55f-5b17f4168ddd",
   "metadata": {},
   "outputs": [],
   "source": []
  }
 ],
 "metadata": {
  "kernelspec": {
   "display_name": "llvm19-mkl-mod2.4",
   "language": "python",
   "name": "llvm19-mkl-mod2.4"
  },
  "language_info": {
   "codemirror_mode": {
    "name": "ipython",
    "version": 3
   },
   "file_extension": ".py",
   "mimetype": "text/x-python",
   "name": "python",
   "nbconvert_exporter": "python",
   "pygments_lexer": "ipython3",
   "version": "3.11.11"
  }
 },
 "nbformat": 4,
 "nbformat_minor": 5
}
