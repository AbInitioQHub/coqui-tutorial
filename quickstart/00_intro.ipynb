{
 "cells": [
  {
   "cell_type": "markdown",
   "id": "567fa555-9a13-4c60-a3fa-44a57f0108d6",
   "metadata": {},
   "source": [
    "## Welcome to the CoQuí Many-Body Electronic Structure Tutorial\n",
    "\n",
    "CoQuí is a C++/MPI scientific package for **ab initio many-body electronic structure** calculations **beyond** density functional theory (**DFT**). On top of the C++ implementations, CoQuí provides thin **Python wrappers** that enable direct exchange of input and output data, making it straightforward to couple with external packages. \n",
    "\n",
    "> 💡 There is another way for users to interact with CoQuí by writing input files in the toml format. [Examples](https://github.com/AbInitioQHub/coqui/tree/main/examples) in this mode are available. \n",
    "\n",
    "For the interest of time, in this *condensed* tutorial series we will not attempt to cover all features of CoQuí or discuss APIs and input parameters in detail. Instead, the focus will be on the **concept of CoQuí’s code structure**, illustrating its capabilities and simplicity. More comprehensive [examples](https://github.com/AbInitioQHub/coqui/tree/main/examples) are available in [CoQuí official Github organization](https://github.com/AbInitioQHub). \n",
    "\n",
    "Here, the current introduction notebook will: \n",
    "- Ensure you can run CoQuí in the provided environment via the Python interface\n",
    "- Introduce the basic execution workflow (MPI + Python)\n",
    "- Outline the general workflow of many-body simulations in CoQuí\n",
    "- Outline how this tutorial series is structured"
   ]
  },
  {
   "cell_type": "markdown",
   "id": "4d103116-daa0-4c0e-ae94-58d06c464fcf",
   "metadata": {},
   "source": [
    "## 🐸 CoQuí \"Hello World\"\n",
    "\n",
    "Let’s start by importing **CoQuí** into Python for the very first time.  \n",
    "\n",
    "👉 Run the next cell to:\n",
    "- Import the `coqui` package,  \n",
    "- Print the installed **CoQuí version**,  \n",
    "- Show the **path** where the Python bindings are loaded from,  \n",
    "- Display the current **Git branch** and **commit hash** that your build corresponds to."
   ]
  },
  {
   "cell_type": "code",
   "execution_count": 1,
   "id": "cf2c5528-d750-4dd2-b030-7d7354390eb4",
   "metadata": {},
   "outputs": [
    {
     "name": "stdout",
     "output_type": "stream",
     "text": [
      "CoQui version: 0.1.0\n",
      "Path for the CoQui Python library: /mnt/home/cyeh/Projects/coqui/build/main/llvm19/install/lib/python3.11/site-packages/coqui\n",
      "GIT branch: main\n",
      "GIT hash: 814a23d\n",
      "\n"
     ]
    }
   ],
   "source": [
    "import os, coqui\n",
    "\n",
    "# CoQui version \n",
    "print(f\"CoQui version: {coqui.__version__}\")\n",
    "# CoQui git information\n",
    "print(f\"Path for the CoQui Python library: {os.path.dirname(coqui.__file__)}\")\n",
    "print(f\"GIT branch: {coqui.COQUI_GIT_BRANCH}\")\n",
    "print(f\"GIT hash: {coqui.COQUI_GIT_HASH}\\n\")"
   ]
  },
  {
   "cell_type": "markdown",
   "id": "8ebcdcbe-da29-48db-8bd5-93b62bcf6d85",
   "metadata": {},
   "source": [
    "### 🔹 MPI Environment in CoQuí\n",
    "The CoQuí C++ library requires that an MPI environment be initialized **before** any CoQui routine is called. \n",
    "When using CoQuí from Python, this MPI environemnt must already be active — for example, via `mpi4py` or another MPI-aware Python framework - before invoking any CoQui routines. \n",
    "\n",
    "Once the MPI environment is initialized, CoQuí routines become aware of it through a `coqui.MpiHandler` object. This class encapsulates information about the initialized MPI context and **must be passed, direclty or indirectly, to any CoQui routine** to ensure that MPI communication is handled consistently across the entire simulation workflow, from Hamiltonian generation to many-body simulations, to post-processing.  \n",
    "\n",
    "A minimum example: \n",
    "```python\n",
    "from mpi4py import MPI    # The MPI environment is initialized here\n",
    "import coqui\n",
    "\n",
    "# 1) Create a CoQuí's MPI handler\n",
    "coqui_mpi = coqui.MpiHandler()\n",
    "\n",
    "# 2) (Optional) Set global logging verbosity for CoQui\n",
    "coqui.set_verbosity(coqui_mpi, output_level=1)\n",
    "\n",
    "# Print MPI state from the root process\n",
    "if coqui_mpi.root():\n",
    "    print(coqui_mpi)\n",
    "```\n",
    "#### ❓**What happens?**\n",
    "1. **MPI environment is initialized first**:  \n",
    "   `mpi4py` sets up the global MPI context before CoQuí functions are called.\n",
    "3. **Create `coqui.MpiHandler` once and reused it**\n",
    "   - Captures the current MPI environment and provides access to:\n",
    "     - Global communicator (all ranks)\n",
    "     - Intranode communicator (within a single node)\n",
    "     - Internode communicator (across nodes)\n",
    "   - Must be constructed **first** and then passed to all CoQuí routines that involve MPI parallelization, directly or indirectly. \n",
    "\n",
    "> ⚠️**Notes**: Even in the serial mode, `MpiHandler` is still required to keep the interface consistent.\n",
    "\n",
    "### 🔹 Running a CoQuí Python script in parallel\n",
    "\n",
    "To run a CoQuí Python script in parallel, use:\n",
    "```bash\n",
    "mpirun -np X python {YOUR_COQUI_PYTHON_SCRIPT}.py\n",
    "```\n",
    "This will launch CoQuí with `X` processes. "
   ]
  },
  {
   "cell_type": "markdown",
   "id": "6259815a-96d9-4075-8334-1af6a8874fa2",
   "metadata": {},
   "source": [
    "### ▶️ Hands-on 1: CoQuí MPI configuration\n",
    "\n",
    "In this first hands-on, we will check that CoQuí runs correctly with MPI both in the notebooks and on terminal. \n",
    "\n",
    "1. Run the following Python snapshot in the notebook. How many processors do you have? \n",
    "```python\n",
    "from mpi4py import MPI    # The MPI environment is initialized here\n",
    "import coqui\n",
    "\n",
    "# 1) Create a CoQuí's MPI handler\n",
    "coqui_mpi = coqui.MpiHandler()\n",
    "\n",
    "# 2) (Optional) Set global logging verbosity for CoQui\n",
    "coqui.set_verbosity(coqui_mpi, output_level=1)\n",
    "\n",
    "# Print MPI state from the root process\n",
    "if coqui_mpi.root():\n",
    "    print(coqui_mpi)\n",
    "```\n",
    "2. Next, open a terminal in the tutorial environemnt\n",
    "2. Save the above Python snapshot to `coqui_hello_world.py` \n",
    "3. Run the script in parallel with the number of processors you have. \n",
    "\n",
    "If everything is working correctly, you should see CoQuí reports the same  MPI configuration. "
   ]
  },
  {
   "cell_type": "code",
   "execution_count": 2,
   "id": "04b4bb2b-5532-4b5a-896a-a1ae01dc63be",
   "metadata": {},
   "outputs": [
    {
     "name": "stdout",
     "output_type": "stream",
     "text": [
      "CoQuí MPI state\n",
      "-----------------\n",
      "  Global communicator: rank 1 / 1\n",
      "  Internode communicator: rank 1 / 1\n",
      "  Intranode communicator: rank 1 / 1\n"
     ]
    },
    {
     "name": "stderr",
     "output_type": "stream",
     "text": [
      "--------------------------------------------------------------------------\n",
      "Ignoring value for oob_tcp_if_exclude on ccqlin065 (10.250.112.0/20: Did not find interface matching this subnet).\n",
      "(You can safely ignore this message.)\n",
      "--------------------------------------------------------------------------\n"
     ]
    }
   ],
   "source": [
    "from mpi4py import MPI    # The MPI environment is initialized here\n",
    "import coqui\n",
    "\n",
    "# 1) Create a CoQuí's MPI handler\n",
    "coqui_mpi = coqui.MpiHandler()\n",
    "\n",
    "# 2) (Optional) Set logging verbosity for this run\n",
    "coqui.set_verbosity(coqui_mpi, output_level=1)\n",
    "\n",
    "# Print MPI state from the root process\n",
    "if coqui_mpi.root():\n",
    "    print(coqui_mpi)"
   ]
  },
  {
   "cell_type": "markdown",
   "id": "4bc943fe-d7ef-4bb9-9bc1-2f675a1683ef",
   "metadata": {},
   "source": [
    "## 🐸 The Many-Body Simulation Workflow in CoQuí\n",
    "\n",
    "Before we dive into features in CoQuí, it’s helpful to see how the different pieces of CoQuí fit together in a typical many-body electronic structure simulation.\n",
    "\n",
    "<figure style=\"text-align: center;\">\n",
    "  <img src=\"../images/coqui_workflow.png\" alt=\"Workflow of many-body electronic structure simulations in CoQuí\" width=\"70%\">\n",
    "  <figcaption><em>Figure&nbsp;1:</em> General workflow of many-body electronic structure simulations in CoQuí.</figcaption>\n",
    "</figure>\n",
    "\n",
    "This workflow can be thought of in three conceptual phases:\n",
    "1. **Problem Setup**\n",
    "   - Start from a finished density functional theory (DFT) or other mean-field calculation.\n",
    "   - Build a mean-field object (`coqui.Mf`) containing **the single-particle information** (structure, k-mesh, bands, orbitals).\n",
    "   - From `coqui.Mf`, **construct the Coulomb Hamiltonian**, which defines an interacting many-electron problem for the many-body solver.\n",
    "   - Optionally, generate **maximally localized Wannier functions (MLWFs)** for **embedding or post-processing**.\n",
    "2. **Simulation**\n",
    "   - Use the **Coulomb Hamiltonian as input** to the desired electronic structure solver, such as GW.\n",
    "   - Another feature in this simulation phase is downfolding (e.g., cRPA), which produces effective screened interactions in MLWFs for low-energy modeling.\n",
    "3. **Post-Processing**\n",
    "   - Analyze electronic structure results: spectral functions, band interpolation, local densities of states, etc. \n",
    "\n",
    "------------\n",
    "\n",
    "#### How this tutorial series maps to the workflow\n",
    "In this series, we will cover different parts of the workflow step-by-step:\n",
    "1. **Intro** (this notebook): Orientation, environment setup, and running CoQuí with MPI.\n",
    "2. **[Prepare CoQuí inputs from DFT outputs](01_dft_to_coqui_converter.ipynb)**: Converting Quantum ESPRESSO results into CoQuí-readable inputs and generating MLWFs via CoQuí's Wannier90 interface. \n",
    "3. **[GW electronic structure](02_gw_electronic_structure.ipynb)**: Constructing the Coulomb Hamiltonian and running GW simulations, plus spectral-function post-processing.\n",
    "4. **[cRPA screened interactions](03_crpa_screened_interactions.ipynb)**: Using the same Coulomb Hamiltonian for downfolding, generating effective screened interactions in MLWFs. \n",
    "5. **[GW+EDMFT embedding (minimum)](04_gw_edmft_minimum.ipynb)**: Combining GW electronic structure and downfolding routines to construct an *ab initio* impurity problem with dynamic interactions in GW+EDMFT. \n",
    "\n",
    "In each notebook, we will use a version of the same workflow figure with the current step highlighted, so you can see exactly where we are in the bigger picture. \n",
    "\n",
    "> ⚠️ This series of tutorials is designed to be **sequantial**. The order is intentional, as each topic builds upon the previous one. Follow them in the designated order is highly recommended. "
   ]
  },
  {
   "cell_type": "code",
   "execution_count": null,
   "id": "3df1e936-456a-4ede-bf78-a93742a38152",
   "metadata": {},
   "outputs": [],
   "source": []
  }
 ],
 "metadata": {
  "kernelspec": {
   "display_name": "llvm19-mkl-mod2.4",
   "language": "python",
   "name": "llvm19-mkl-mod2.4"
  },
  "language_info": {
   "codemirror_mode": {
    "name": "ipython",
    "version": 3
   },
   "file_extension": ".py",
   "mimetype": "text/x-python",
   "name": "python",
   "nbconvert_exporter": "python",
   "pygments_lexer": "ipython3",
   "version": "3.11.11"
  }
 },
 "nbformat": 4,
 "nbformat_minor": 5
}
