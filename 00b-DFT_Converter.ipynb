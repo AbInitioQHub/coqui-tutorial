{
 "cells": [
  {
   "cell_type": "markdown",
   "id": "fb84e082-3ca3-4108-881a-b559f4fd961f",
   "metadata": {
    "editable": true,
    "slideshow": {
     "slide_type": ""
    },
    "tags": []
   },
   "source": [
    "# DFT Converter\n",
    "\n",
    "`CoQui` requires the following input data in order to start a many-body \n",
    "electronic structure calculation:  \n",
    "- **Metadata**: Defines the simulated system.\n",
    "- **Mean-Field Solution**: Typically from DFT or HF.\n",
    "- **Single-Particle Basis Set**: Basis functions used to construct the many-body\n",
    "  Hamiltonian in subsequent calculations, typically including Kohn-Sham orbitals,\n",
    "  Gaussian bases, or other generic basis functions.\n",
    "\n",
    "Every mean-field software package generates results in a completely different\n",
    "data structure, requiring a customized converter for each. Currently, `CoQui` \n",
    "supports two mean-field backends: \n",
    "* [Quantum ESPRESSO](https://www.quantum-espresso.org): \n",
    "  See [QE tutorial](qe/README.md) and [qe_mf.toml](../mean_field/qe_mf.toml). \n",
    "* [PySCF](https://pyscf.org): \n",
    "  See [PySCF tutorial](pyscf/README.md) and [pyscf_mf.toml](../mean_field/pyscf_mf.toml).  \n",
    "\n",
    "Alternatively, input data from any supported mean-field backend can be converted \n",
    "into a consistent `CoQui` format (`[mean_field.bdft]`). This is useful when you want \n",
    "to create a new `[mean_field]` object by modifying an existing one. \n",
    "For more information, see [bdft_mf.toml](../mean_field/bdft_mf.toml). \n"
   ]
  },
  {
   "cell_type": "code",
   "execution_count": null,
   "id": "3978a2a6-31ef-41a4-87b1-5fc5b911f343",
   "metadata": {},
   "outputs": [],
   "source": []
  }
 ],
 "metadata": {
  "kernelspec": {
   "display_name": "Python 3 (ipykernel)",
   "language": "python",
   "name": "python3"
  },
  "language_info": {
   "codemirror_mode": {
    "name": "ipython",
    "version": 3
   },
   "file_extension": ".py",
   "mimetype": "text/x-python",
   "name": "python",
   "nbconvert_exporter": "python",
   "pygments_lexer": "ipython3",
   "version": "3.11.11"
  }
 },
 "nbformat": 4,
 "nbformat_minor": 5
}
