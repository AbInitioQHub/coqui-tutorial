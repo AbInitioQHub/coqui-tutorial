{
 "cells": [
  {
   "cell_type": "markdown",
   "id": "3a30ca19-406b-40f7-a175-094cc883f8da",
   "metadata": {},
   "source": [
    "# CoQuí - Correlated Quantum Interface\n",
    "\n",
    "**CoQuí** is a C++ software project for *ab initio* electronic structure simulations beyond density functional theory (DFT) for quantum materials. \n",
    "\n",
    "---\n",
    "Key features of CoQuí include: \n",
    "#### 🪚 Compressed Representations for Many-Body Hamiltonians\n",
    "- Tensor Hypercontraction (THC) representation of two-electron Coulomb integrals [[ref1](https://pubs.acs.org/doi/abs/10.1021/acs.jctc.3c00615), [ref2](https://pubs.acs.org/doi/abs/10.1021/acs.jctc.4c00085)]\n",
    "- Cholesky decomposition for two-electron integrals\n",
    "\n",
    "#### ⚛️ Many-Body Perturbation Theory (MBPT)\n",
    "- Hartree–Fock [[ref](https://pubs.acs.org/doi/abs/10.1021/acs.jctc.3c00615)]\n",
    "- RPA correlation energy [[ref](https://pubs.acs.org/doi/abs/10.1021/acs.jctc.3c00615)]\n",
    "- GW approximation [[ref](https://pubs.acs.org/doi/abs/10.1021/acs.jctc.4c00085)]\n",
    "- Second-order exchange (SOX) diagram [[ref](https://arxiv.org/abs/2404.17744)]\n",
    "- Self-consistent MBPT:  \n",
    "  - Quasiparticle approximation  \n",
    "  - Full-frequency dependence\n",
    "#### 🔻 Downfolding for Effective Low-Energy Hamiltonians\n",
    "- Constrained RPA for calculating screened interactions [[ref](https://pubs.acs.org/doi/abs/10.1021/acs.jctc.4c00085)]\n",
    "- Construction of local effective Hamiltonians for correlated models [[ref](https://pubs.acs.org/doi/abs/10.1021/acs.jctc.4c00085)]\n",
    "\n",
    "---\n",
    "CoQuí offers two modes of usage: \n",
    "\n",
    "1. **Input-file mode** $-$ Users parse a TOML input file and run CoQuí as a black-box executable. Output data are stored and exchanged via HDF5 files. \n",
    "2. **Python mode** $-$ Input parameters are specified directly in a Python program using dictionaries and passed to CoQui routines through thin Python wraoppers. \n",
    "   This mode enables more direct exchange of input and output data, allowing users to integrate CoQuí into their own computational workflows alongside external packages.\n",
    "\n",
    "> ⚠️ **Note**: Even in Python mode, the user interacts with high-level interfaces rather than manipulating low-level components.\n",
    "> CoQuí is **not** intended to serve as a low-level \"toolbox\" for building custom electronic structure algorithms from scratch.\n"
   ]
  },
  {
   "cell_type": "markdown",
   "id": "6b1f6cfd-d94d-4f5e-bb0a-f932103c44b5",
   "metadata": {
    "editable": true,
    "slideshow": {
     "slide_type": ""
    },
    "tags": []
   },
   "source": [
    "## 0. Python setup\n",
    "For setting up the environement for CoQuí Python interface, please add the following directory to your `PYTHONPATH`: \n",
    "```bash\n",
    "export PYTHONPATH={COQUI_INSTALL_DIR}/lib/python/site-packages/:$PYTHONPATH\n",
    "```\n",
    "\n",
    "> ⚠️**Note**: The CoQuí C++ library requires an MPI environment and does not support serial execution (yet!). Therefore, the Python interface must be used within an initialized MPI context, such as one provided by mpi4py or another MPI-aware Python framework.\n",
    "\n",
    "\n",
    "To run a Python script that uses CoQuí, use a command like: \n",
    "```bash\n",
    "mpirun {MPI_FLAGS} python {YOUR_COQUI_PYTHON_SCRIPT}.py\n",
    "```"
   ]
  },
  {
   "cell_type": "code",
   "execution_count": 1,
   "id": "b4221aae-0493-435a-9e17-0b79d548f702",
   "metadata": {
    "editable": true,
    "slideshow": {
     "slide_type": ""
    },
    "tags": []
   },
   "outputs": [
    {
     "name": "stderr",
     "output_type": "stream",
     "text": [
      "--------------------------------------------------------------------------\n",
      "Ignoring value for oob_tcp_if_exclude on worker6022 (10.250.112.0/20: Did not find interface matching this subnet).\n",
      "(You can safely ignore this message.)\n",
      "--------------------------------------------------------------------------\n"
     ]
    },
    {
     "name": "stdout",
     "output_type": "stream",
     "text": [
      "CoQui version: 0.1.0\n",
      "Path for the CoQui Python library: /mnt/home/cyeh/Projects/BeyondDFT/build/genoa/pybind_llvm19/install/lib/python/site-packages/coqui\n",
      "GIT branch: pybind\n",
      "GIT hash: ab250de8\n",
      "\n"
     ]
    }
   ],
   "source": [
    "import os\n",
    "from mpi4py import MPI\n",
    "import coqui\n",
    "\n",
    "# CoQui version \n",
    "print(f\"CoQui version: {coqui.__version__}\")\n",
    "# CoQui git information\n",
    "print(f\"Path for the CoQui Python library: {os.path.dirname(coqui.__file__)}\")\n",
    "print(f\"GIT branch: {coqui.COQUI_GIT_BRANCH}\")\n",
    "print(f\"GIT hash: {coqui.COQUI_GIT_HASH}\\n\")"
   ]
  },
  {
   "cell_type": "markdown",
   "id": "14054264-283a-4a05-b674-3da88e17c841",
   "metadata": {},
   "source": [
    "## 0.1 MPI envrionemnt\n",
    "\n",
    "The state of the MPI environment in CoQuí is managed by the `coqui.MpiHandler` class. \n",
    "The class encapsulates information and provides access to \n",
    "- **Global** communicator $-$ All ranks \n",
    "- **Intranode** communicator $-$ Communicator within the same node\n",
    "- **Internode** communicator $-$ Communicator between different nodes\n",
    "\n",
    "In addition, `coqui.MpiHandler` offers a minimal interface for performing basic MPI operations. \n",
    "\n",
    "It must be constructed and, explicitly or implicitly, passed to **ALL** CoQuí routines that \n",
    "involve MPI parallelization. Even in serial mode (i.e., when using a single process), this class \n",
    "is required to ensure a consistent interface across all workflows.\n",
    "\n",
    "> 💡**Warning**: The MpiHandler is not copiable. Attempting to copy it will fail:\n",
    "> ```\n",
    ">      import copy\n",
    ">      mpi_copy = copy.copy(mpi)\n",
    "> ```\n",
    ">  Simply make another MpiHandler, rather than make a copy"
   ]
  },
  {
   "cell_type": "code",
   "execution_count": 3,
   "id": "dc88be41-6eb5-407d-9230-6c4059ff0ba5",
   "metadata": {},
   "outputs": [
    {
     "name": "stdout",
     "output_type": "stream",
     "text": [
      "CoQuí MPI state\n",
      "-----------------\n",
      "  Global communicator: rank 1 / 1\n",
      "  Internode communicator: rank 1 / 1\n",
      "  Intranode communicator: rank 1 / 1\n"
     ]
    }
   ],
   "source": [
    "# CoQuí computing environemnt: mpi handler and verbosity\n",
    "coqui_mpi = coqui.MpiHandler()\n",
    "coqui.set_verbosity(coqui_mpi, output_level=2, debug_level=0)\n",
    "print(coqui_mpi)"
   ]
  },
  {
   "cell_type": "markdown",
   "id": "19617451-e873-4465-b077-026fc71c2d08",
   "metadata": {},
   "source": [
    "## 0.2 Verbosity\n",
    "\n",
    "The verbosity levels of all CoQuí routines are setup via `coqui.set_verbosity` function with the following parameters: \n",
    "   - mpi_handler:  [INPUT] MPI handler to ensure logging is MPI-aware, i.e. only root prints\n",
    "   - output_level: [INPUT] Level of output verbosity (default: 2)\n",
    "   - debug_level:  [INPUT] Level of debug verbosity (default: 0)\n"
   ]
  },
  {
   "cell_type": "code",
   "execution_count": 10,
   "id": "bb3e561b-6b18-4e5e-bcfb-995e791f73c7",
   "metadata": {},
   "outputs": [],
   "source": [
    "coqui.set_verbosity(coqui_mpi, output_level=2, debug_level=0)"
   ]
  },
  {
   "cell_type": "markdown",
   "id": "5a5655de-76ba-4d24-a3e7-98dee3fdc015",
   "metadata": {},
   "source": [
    "## 1. CoQuí code structure \n",
    "\n",
    "To illustrate the code structure, here we show a standard usage of performing an *ab initio* Hartree-Fock calcualtion for silicon solid: \n",
    "```python\n",
    "# Step 0: Set up the CoQuí computing environemnt: MPI handler and verbosity\n",
    "mpi = coqui.MpiHandler()\n",
    "coqui.set_verbosity(mpi, output_level=2, debug_level=0)\n",
    "\n",
    "# Step 1: Construct a mean-field object\n",
    "mf_params = {\n",
    "    \"prefix\": \"si\", \n",
    "    \"outdir\": \"data/qe_inputs/si/out\", \n",
    "    \"filetype\": \"h5\"\n",
    "}\n",
    "si_mf = coqui.Mf(mpi, mf_params, \"qe\")\n",
    "\n",
    "# Step 2: Compute THC-decomposed Coulomb integrals\n",
    "eri_params = {\n",
    "    \"storage\": \"incore\", \"save\": \"thc.eri.h5\",\n",
    "    \"ecut\": 60, \"thresh\": 1e-2\n",
    "}\n",
    "si_thc = coqui.ThcCoulomb(si_mf, eri_params)\n",
    "\n",
    "# Step 3: Run Hartree-Fock calculation\n",
    "hf_params = {\n",
    "    \"restart\": False, \"output\": \"hf\", \"niter\": 1,\n",
    "    \"beta\": 300, \"lambda\": 1200, \"iaft_prec\": \"mid\",\n",
    "    \"iter_alg\": {\"alg\": \"damping\", \"mixing\": 0.7}\n",
    "}\n",
    "coqui.run_hf(hf_params, h_int=si_thc)\n",
    "```\n",
    "\n",
    "Without diving into the details of each step, this calculation can be interpreted as three conceptual steps: \n",
    "1. **Initialize a Mean Field Object**:\n",
    "   The `si_mf` object accesses data from a supported DFT code (Quantum ESPRESSO in this example),\n",
    "   including system metadata and the single-particle basis set obtained from the mean-field solution. \n",
    "2. **Construct the Bare Coulomb Hamiltonian in THC Representation**:\n",
    "   The `si_thc` object takes `si_mf` as input and constructs the bare Coulomb interaction using the\n",
    "   tensor hypercontraction (THC) decomposition. \n",
    "4. **Perform the HF Self-Consistency Loop**:\n",
    "   The function `run_hf` carries out the HF self-consistency using `si_thc` as the many-body Hamiltonian and\n",
    "   `hf_params` as control parameters. \n",
    "\n",
    "---\n",
    "#### 🔹 This example reflects a **general design pattern** used throughout CoQuí: \n",
    "\n",
    ">  **All electronic structure methods are implemented as free functions that accept**\n",
    ">  - a **mean-field** object  \n",
    ">  - a **Coulomb Hamiltonian** (e.g., in THC form)  \n",
    ">  - a **dictionary of method-specific parameters**\n",
    ">\n",
    ">  These two core components—**mean-field** and **Coulomb Hamiltonian**—serve as the fundamental building blocks for composing many-body simulations.  "
   ]
  },
  {
   "cell_type": "markdown",
   "id": "c2682a0b-fd0a-4709-815e-7a14b7b869d3",
   "metadata": {
    "editable": true,
    "slideshow": {
     "slide_type": ""
    },
    "tags": []
   },
   "source": [
    "## 📚 2. Tutorial Overview\n",
    "\n",
    "This tutorial series introduces the key features and capabilities of **CoQuí**, and is structured to reflect its modular design. \n",
    "You will begin with foundational components, such as DFT converter, mean-field construction, and Coulomb Hamiltonians, and then progress to many-body perturbation theories and downfolding techniques. \n",
    "\n",
    "#### 🧱 CoQuí Building Blocks\n",
    "\n",
    "- **[Tutorial 0: DFT Converter](00b-DFT_Converter.ipynb)**  \n",
    "  Convert DFT outputs into CoQuí-compatible formats.\n",
    "\n",
    "- **[Tutorial 1: Mean-Field Class](01a-Mean_Field.ipynb)**  \n",
    "  Learn how to construct and manipulate mean-field objects from DFT metadata.\n",
    "\n",
    "- **[Tutorial 2: Bare Coulomb Hamiltonian](02a-THC_Coulomb_Hamiltonian.ipynb)**  \n",
    "  Compute and store the two-electron Coulomb integrals in compressed form.\n",
    "\n",
    "#### 🔬 Many-Body Electronic Structure\n",
    "\n",
    "- **[Tutorial 3: Many-Body Perturbation Theory (MBPT)](02-MBPT.ipynb)**  \n",
    "  Perform HF, RPA, GW, and SOX calculations with different self-consistency.\n",
    "\n",
    "- **[Tutorial 4: Downfolding for Screened Interactions](03b-Downfold_Coulomb.ipynb)**  \n",
    "  Generate screened interactions using constrained RPA and construct low-energy models.\n",
    "\n",
    "- **[Tutorial 5: Interfacing with ModEST](03c-ModEST.ipynb)**  \n",
    "  Export CoQuí-generated Hamiltonians for external solvers such as ModEST.\n",
    "\n",
    "- **[Tutorial 6: GW+EDMFT](04-GW_EDMFT.ipynb)**  \n",
    "  Combine long-range GW screening with local strong correlations in a self-consistent framework.\n",
    "\n",
    "---\n",
    "\n",
    "> ⚠️ These tutorials are designed to be **sequantial**.\n",
    "> The order is intentional, as each topic builds upon the previous one. Please follow them in the designated order for a coherent understanding. "
   ]
  },
  {
   "cell_type": "code",
   "execution_count": null,
   "id": "10546766-fbec-4814-b25a-9c861ea56154",
   "metadata": {},
   "outputs": [],
   "source": []
  }
 ],
 "metadata": {
  "kernelspec": {
   "display_name": "llvm19-mkl-mod2.4",
   "language": "python",
   "name": "llvm19-mkl-mod2.4"
  },
  "language_info": {
   "codemirror_mode": {
    "name": "ipython",
    "version": 3
   },
   "file_extension": ".py",
   "mimetype": "text/x-python",
   "name": "python",
   "nbconvert_exporter": "python",
   "pygments_lexer": "ipython3",
   "version": "3.11.11"
  }
 },
 "nbformat": 4,
 "nbformat_minor": 5
}
