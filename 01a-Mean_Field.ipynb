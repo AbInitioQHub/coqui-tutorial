{
 "cells": [
  {
   "cell_type": "code",
   "execution_count": 7,
   "id": "825beb80-ccfc-484b-a537-790b8292c749",
   "metadata": {},
   "outputs": [
    {
     "name": "stdout",
     "output_type": "stream",
     "text": [
      "CoQuí MPI state\n",
      "-----------------\n",
      "  Global communicator: rank 1 / 1\n",
      "  Internode communicator: rank 1 / 1\n",
      "  Intranode communicator: rank 1 / 1\n"
     ]
    }
   ],
   "source": [
    "from mpi4py import MPI\n",
    "import coqui\n",
    "\n",
    "# CoQui computing environemnt: mpi handler and verbosity\n",
    "mpi = coqui.MpiHandler()\n",
    "coqui.set_verbosity(mpi, output_level=4, debug_level=0)\n",
    "if mpi.root():\n",
    "    print(mpi)"
   ]
  },
  {
   "cell_type": "markdown",
   "id": "ef3a734a-adc1-42c6-91dc-922e0bd52f7c",
   "metadata": {},
   "source": [
    "## ⚛️ First, defining Your System!\n",
    "\n",
    "Every CoQuí calculation begins with the declaration of a *target* system, which specifies all the ingredients required to construct the non-interacting Hamiltonian:  \n",
    "\n",
    "$$\n",
    "(H_{0})^{\\textbf{k}}_{ab} = \\int d\\textbf{r} \\phi^{\\textbf{k}*}_{a}(\\textbf{r}) \\Big [ \\frac{\\nabla^{2}}{2} +  V_{\\mathrm{ext}}(\\textbf{r}) \\big] \\phi^{\\textbf{k}}_{b}(\\textbf{r})\n",
    "$$\n",
    "\n",
    "This setup requires the following components:\n",
    "\n",
    "- **Metadata**: Basic information describing the system (e.g., structure, pseudopotentials, energy cutoffs, etc.)\n",
    "- **Single-Particle Basis Functions $\\phi^{\\textbf{k}}_{a}(\\textbf{r})$**:\n",
    "  The basis used to expand the many-body Hamiltonian. This can include Kohn–Sham orbitals, Gaussian-type orbitals, or other grid-based representations. \n",
    "- **Mean-Field Solution** (optional): DFT or HF solution used as a starting point for correlated many-body methods. \n",
    "\n",
    "---\n",
    "Specifically, in this tutorial, you will learn how to use CoQuí:\n",
    "\n",
    "- Initialize a system handler in CoQuí, which wraps all the data required for post-mean-field simulations."
   ]
  },
  {
   "cell_type": "markdown",
   "id": "f801fead-3041-4580-9d31-d52f681ef1ef",
   "metadata": {
    "editable": true,
    "slideshow": {
     "slide_type": ""
    },
    "tags": []
   },
   "source": [
    "## 🧱 `Mf` class \n",
    "\n",
    "In CoQuí, the declaration of a simulated system is handled by the `Mf` class, which encapsulates all the necessary data described in the previous section. \n",
    "\n",
    "A standard usage looks like:\n",
    "```python\n",
    "# Mf for the target system\n",
    "mf_params = {\n",
    "    \"prefix\": \"si\", \n",
    "    \"outdir\": \"data/qe_inputs/si/out\"\n",
    "}\n",
    "mf = coqui.make_mf(mpi, mf_params, \"qe\")\n",
    "```\n",
    "where the `Mf` object is constructed via: \n",
    "\n",
    "```python\n",
    "coqui.make_mf(mpi: coqui.MpiHandler, mf_params: dict, mf_type: str) -> coqui.Mf\n",
    "```\n",
    "\n",
    "This functions requires \n",
    "- `mpi`: an `MpiHandler` object that manages MPI context\n",
    "- `mf_params`: a dictionary of parameters used during the construction of `Mf`.\n",
    "- `mf_type`: a string specfying the type of DFT backend. Currently, CoQuí supports: \n",
    "  -  [Quantum ESPRESSO](https://www.quantum-espresso.org): `mf_type = \"qe\"`\n",
    "  -  [PySCF](https://pyscf.org): `mf_type = \"pyscf\"` \n",
    "\n",
    "Once initialized, this class is **read-only** and serves as the interface between CoQuí and the output of supported DFT codes, providing access to:\n",
    "  1. **System metadata** $-$ such as the number of bands, spins, and k-points.\n",
    "  2. **Single-particle basis functions** $-$ used to expand a many-body Hamiltonian\n",
    "\n",
    "\n",
    "> 💡 **NOTE** 💡\n",
    "> - Every DFT package produces its output in a unique format. Under the hood, different backend-specific readers are called, selected via the mf_type argument.\n",
    "> - Once the `Mf` object is created, all subsequent CoQuí routines become agnostic to the origin of the mean-field data, allowing a unified interface for downstream many-body methods. "
   ]
  },
  {
   "cell_type": "markdown",
   "id": "651c7ae8-8e1f-448f-a28c-189014487734",
   "metadata": {},
   "source": [
    "### 🧪 Exercise 1: Initialize your first mean-field handler\n",
    "\n",
    "- Copy and paste the above python script\n",
    "- Modify `mf_params` to read the Qunatum Espresso output stored in `data/xxx/out`. \n",
    "- How many k-points in the full BZ and irreducible BZ respectively? \n",
    "\n",
    "> 💡 **HINT** 💡\n",
    "> - A full list of parameters for `mf_params` can be viewed using `help(coqui.make_mf)`. \n",
    "> - Check the QE input (`data/xxx/prefix.nscf.in`) to set `mf_param` accordingly                                                                     "
   ]
  },
  {
   "cell_type": "code",
   "execution_count": 8,
   "id": "caabfc5c-f131-4876-b769-8d5a42681ec5",
   "metadata": {
    "editable": true,
    "slideshow": {
     "slide_type": ""
    },
    "tags": []
   },
   "outputs": [],
   "source": [
    "# construct a mean-field handler by reading an existing QE calculation \n",
    "mf_params = {\n",
    "    \"prefix\": \"si\", \n",
    "    \"outdir\": \"../data/qe_inputs/si_222/out\", \n",
    "    \"filetype\": \"h5\"\n",
    "}\n",
    "my_mf = coqui.make_mf(mpi, mf_params, \"qe\")"
   ]
  },
  {
   "cell_type": "code",
   "execution_count": 6,
   "id": "966bd8ce-90fa-4efa-9f93-0da71f287fad",
   "metadata": {},
   "outputs": [
    {
     "name": "stdout",
     "output_type": "stream",
     "text": [
      "CoQuí mean-field state\n",
      "----------------------\n",
      "  Type                : qe\n",
      "  Prefix              : si\n",
      "  Output dir          : ../data/qe_inputs/si_222/out\n",
      "  Number of electrons (nelec): 8\n",
      "  Bands (nbnd)        : 80\n",
      "  Spins (nspin)       : 1\n",
      "  Polarization (npol) : 1\n",
      "  Monkhorst-Pack grid : (2, 2, 2)\n",
      "  K-points            : 8 total, 4 in IBZ\n",
      "  Q-points            : 8 total, 4 in IBZ\n",
      "  Kinetic energy cutoff (ecutrho): 200 a.u.\n",
      "  FFT grid            : (36, 36, 36)\n"
     ]
    }
   ],
   "source": [
    "print(my_mf)"
   ]
  },
  {
   "cell_type": "code",
   "execution_count": null,
   "id": "010dc892-46f8-40c3-a565-f512f72fefa6",
   "metadata": {},
   "outputs": [],
   "source": []
  }
 ],
 "metadata": {
  "kernelspec": {
   "display_name": "llvm19-coqui-release",
   "language": "python",
   "name": "llvm19-coqui-release"
  },
  "language_info": {
   "codemirror_mode": {
    "name": "ipython",
    "version": 3
   },
   "file_extension": ".py",
   "mimetype": "text/x-python",
   "name": "python",
   "nbconvert_exporter": "python",
   "pygments_lexer": "ipython3",
   "version": "3.11.11"
  }
 },
 "nbformat": 4,
 "nbformat_minor": 5
}
