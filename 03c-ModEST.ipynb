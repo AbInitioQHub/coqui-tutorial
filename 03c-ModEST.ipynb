{
 "cells": [
  {
   "cell_type": "code",
   "execution_count": 37,
   "id": "6581e112-3474-4d80-8c40-63f15a809eeb",
   "metadata": {},
   "outputs": [],
   "source": [
    "import bzsummation as modest\n",
    "from triqs.gf import BlockGf"
   ]
  },
  {
   "cell_type": "code",
   "execution_count": 9,
   "id": "618a1945-eaf4-443f-9d25-05a97ba3623e",
   "metadata": {},
   "outputs": [],
   "source": [
    "wan_h5 = \"/mnt/home/cyeh/ceph/coqui_examples/mf_inputs/sto_qe/t2g/sto_dp.h5\"\n",
    "wan_h5 = \"/mnt/home/cyeh/ceph/coqui_examples/mf_inputs/sto_qe/t2g/sto_t2g.h5\""
   ]
  },
  {
   "cell_type": "code",
   "execution_count": 33,
   "id": "15c7c12b-59de-4eb4-8a67-86e7ed0e561f",
   "metadata": {},
   "outputs": [
    {
     "name": "stdout",
     "output_type": "stream",
     "text": [
      "One body elements representing a downfolding from (restricted) Bloch 𝓑 to Correlated space 𝓒 from DFT code [one_body_elements_on_grid]\n",
      "  H:\n",
      "    Band dispersion ε^σ(k) on a grid [band_dispersion]:\n",
      "      Number of bands (max): 12\n",
      "      Represented on a fixed grid of 125 points.\n",
      "      Shape of H[k_idx, σ, ν, ν'] = [125, 1, 12, 12]\n",
      "  C_space:\n",
      "    Local space [orbital_set]:\n",
      "      Total dimension [M]: 3\n",
      "      Number of correlated atoms: 1\n",
      "      Number of inequivalent correlated atoms = 1\n",
      "      Atomic decomposition:\n",
      "         dim_a:   3\n",
      "             a:   0\n",
      "        irreps: [3]\n",
      "  P:\n",
      "    Downfolding projector P^σ_mν(k) on a grid [downfolding_projector]:\n",
      "      Shape of P[k_idx, σ, m, ν]  = [125, 1, 3, 12]\n",
      "  IBZ = false\n",
      "\n"
     ]
    }
   ],
   "source": [
    "target_density, obe = modest.one_body_elements_from_dft_converter(wan_h5, threshold=0)\n",
    "print(obe)"
   ]
  },
  {
   "cell_type": "code",
   "execution_count": 32,
   "id": "7bd854c6-8d0d-456b-b8be-465a1f63517c",
   "metadata": {},
   "outputs": [
    {
     "name": "stdout",
     "output_type": "stream",
     "text": [
      "Embedding:\n",
      "  Spin index (σ/τ) names: [\"up\", \"down\"]\n",
      "\n",
      "  Σ_embed block decomposition:\n",
      "    dim_α:   1   1   1\n",
      "        α:   0   1   2\n",
      "\n",
      "  Impurities\n",
      "    Block dimensions, dim_γ for all γ:\n",
      "      [n_imp = 0] dim_γ =   1   1   1\n",
      "                      γ =   0   1   2\n",
      "    Gf Block structures for solvers as names, [dim]:\n",
      "      [imp_idx = 0] up_0 [1], up_1 [1], up_2 [1], down_0 [1], down_1 [1], down_2 [1]\n",
      "\n",
      "  Mapping ψ(α,σ) = (imp_idx, γ, τ) \n",
      "             |          σ = 0 / up                    σ = 1 / down           \n",
      "      -------+-------------------------------+------------------------------+\n",
      "      α = 0  |   (imp_idx = 0, γ = 0, τ = 0)    (imp_idx = 0, γ = 0, τ = 1)  \n",
      "      α = 1  |   (imp_idx = 0, γ = 1, τ = 0)    (imp_idx = 0, γ = 1, τ = 1)  \n",
      "      α = 2  |   (imp_idx = 0, γ = 2, τ = 0)    (imp_idx = 0, γ = 2, τ = 1)  \n",
      "\n",
      "----------\n",
      "Imp 0:\n",
      "  ('up_0', 1)\n",
      "  ('up_1', 1)\n",
      "  ('up_2', 1)\n",
      "  ('down_0', 1)\n",
      "  ('down_1', 1)\n",
      "  ('down_2', 1)\n"
     ]
    }
   ],
   "source": [
    "E = modest.make_embedding_with_equivalences(obe.C_space)\n",
    "print(E)\n",
    "print(\"-\"*10)\n",
    "#print(E.imp_block_shape[0])\n",
    "imp_block_shape = E.imp_block_shape\n",
    "for imp, block in enumerate(imp_block_shape):\n",
    "    print(f\"Imp {imp}:\")\n",
    "    for gamma in block:\n",
    "        print(f\"  {gamma}\")"
   ]
  },
  {
   "cell_type": "code",
   "execution_count": 36,
   "id": "0d17788b-476b-4ec4-ada9-4676dcb33a4f",
   "metadata": {},
   "outputs": [
    {
     "name": "stdout",
     "output_type": "stream",
     "text": [
      "Embedding:\n",
      "  Spin index (σ/τ) names: [\"up\", \"down\"]\n",
      "\n",
      "  Σ_embed block decomposition:\n",
      "    dim_α:   3\n",
      "        α:   0\n",
      "\n",
      "  Impurities\n",
      "    Block dimensions, dim_γ for all γ:\n",
      "      [n_imp = 0] dim_γ =   3\n",
      "                      γ =   0\n",
      "    Gf Block structures for solvers as names, [dim]:\n",
      "      [imp_idx = 0] up_0 [3], down_0 [3]\n",
      "\n",
      "  Mapping ψ(α,σ) = (imp_idx, γ, τ) \n",
      "             |          σ = 0 / up                    σ = 1 / down           \n",
      "      -------+-------------------------------+------------------------------+\n",
      "      α = 0  |   (imp_idx = 0, γ = 0, τ = 0)    (imp_idx = 0, γ = 0, τ = 1)  \n",
      "\n",
      "----------\n",
      "Imp 0:\n",
      "  ('up_0', 3)\n",
      "up_0\n",
      "3\n",
      "  ('down_0', 3)\n",
      "down_0\n",
      "3\n"
     ]
    }
   ],
   "source": [
    "E = modest.make_embedding_with_equivalences(obe.C_space)\n",
    "print(E)\n",
    "print(\"-\"*10)\n",
    "#print(E.imp_block_shape[0])\n",
    "imp_block_shape = E.imp_block_shape\n",
    "for imp, block in enumerate(imp_block_shape):\n",
    "    print(f\"Imp {imp}:\")\n",
    "    for gamma in block:\n",
    "        print(f\"  {gamma}\")"
   ]
  },
  {
   "cell_type": "code",
   "execution_count": 19,
   "id": "9cc77d71-c2b0-41de-9afd-741ca6daef9e",
   "metadata": {},
   "outputs": [
    {
     "name": "stdout",
     "output_type": "stream",
     "text": [
      "[[('up_0', 3), ('down_0', 3)]]\n"
     ]
    }
   ],
   "source": []
  },
  {
   "cell_type": "code",
   "execution_count": 11,
   "id": "52a158eb-c771-4f1a-bf06-d6f6cd5e90e1",
   "metadata": {},
   "outputs": [
    {
     "name": "stdout",
     "output_type": "stream",
     "text": [
      "Embedding:\n",
      "  Spin index (σ/τ) names: [\"up\", \"down\"]\n",
      "\n",
      "  Σ_embed block decomposition:\n",
      "    dim_α:   1   1   1\n",
      "        α:   0   1   2\n",
      "\n",
      "  Impurities\n",
      "    Block dimensions, dim_γ for all γ:\n",
      "      [n_imp = 0] dim_γ =   1   1   1\n",
      "                      γ =   0   1   2\n",
      "    Gf Block structures for solvers as names, [dim]:\n",
      "      [imp_idx = 0] up_0 [1], up_1 [1], up_2 [1], down_0 [1], down_1 [1], down_2 [1]\n",
      "\n",
      "  Mapping ψ(α,σ) = (imp_idx, γ, τ) \n",
      "             |          σ = 0 / up                    σ = 1 / down           \n",
      "      -------+-------------------------------+------------------------------+\n",
      "      α = 0  |   (imp_idx = 0, γ = 0, τ = 0)    (imp_idx = 0, γ = 0, τ = 1)  \n",
      "      α = 1  |   (imp_idx = 0, γ = 1, τ = 0)    (imp_idx = 0, γ = 1, τ = 1)  \n",
      "      α = 2  |   (imp_idx = 0, γ = 2, τ = 0)    (imp_idx = 0, γ = 2, τ = 1)  \n",
      "\n"
     ]
    }
   ],
   "source": [
    "E = modest.make_embedding_with_equivalences(obe.C_space)\n",
    "print(E)"
   ]
  },
  {
   "cell_type": "code",
   "execution_count": null,
   "id": "1d416c08-c622-4d19-b25d-ca417253ab8e",
   "metadata": {},
   "outputs": [],
   "source": []
  }
 ],
 "metadata": {
  "kernelspec": {
   "display_name": "llvm19-mkl-mod2.4",
   "language": "python",
   "name": "llvm19-mkl-mod2.4"
  },
  "language_info": {
   "codemirror_mode": {
    "name": "ipython",
    "version": 3
   },
   "file_extension": ".py",
   "mimetype": "text/x-python",
   "name": "python",
   "nbconvert_exporter": "python",
   "pygments_lexer": "ipython3",
   "version": "3.11.11"
  }
 },
 "nbformat": 4,
 "nbformat_minor": 5
}
